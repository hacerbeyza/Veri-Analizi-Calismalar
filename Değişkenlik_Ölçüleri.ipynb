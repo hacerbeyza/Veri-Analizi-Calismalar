{
 "cells": [
  {
   "cell_type": "markdown",
   "id": "79f1357d",
   "metadata": {},
   "source": [
    "# DEĞİŞKENLİK ÖLÇÜLERİ"
   ]
  },
  {
   "cell_type": "markdown",
   "id": "70febe04",
   "metadata": {},
   "source": [
    "-VARYANS \n",
    "-STANDART SAPMA \n",
    "-ÇARPIKLIK\n",
    "-BASIKLIK\n",
    "-YÜZDELİKLER\n",
    "-ARALIKLAR"
   ]
  },
  {
   "cell_type": "markdown",
   "id": "28af6022",
   "metadata": {},
   "source": [
    "# VARYANS"
   ]
  },
  {
   "cell_type": "code",
   "execution_count": 3,
   "id": "1ec39f88",
   "metadata": {},
   "outputs": [],
   "source": [
    "x=[2,3,2,8,12,5,6,5,2,3] #Varyans kavramı dağılıma ait her bir değerin \n",
    "#dağılımın ortalamasından ne kadar uzak olduğuyla ilgilidir.\n",
    "#Varyans: farkların karesinin ortalamasıdır\n",
    "#Basitçe söylemek gerekirse, varyans, bir örnek veya veri kümesi içindeki \n",
    "#veri noktalarının ne kadar yayılmış olduğunun istatistiksel bir ölçüsüdür."
   ]
  },
  {
   "cell_type": "code",
   "execution_count": 4,
   "id": "583dac67",
   "metadata": {},
   "outputs": [
    {
     "data": {
      "text/plain": [
       "10"
      ]
     },
     "execution_count": 4,
     "metadata": {},
     "output_type": "execute_result"
    }
   ],
   "source": [
    "n=len(x)\n",
    "n"
   ]
  },
  {
   "cell_type": "code",
   "execution_count": 5,
   "id": "565c0a8d",
   "metadata": {},
   "outputs": [
    {
     "data": {
      "text/plain": [
       "4.8"
      ]
     },
     "execution_count": 5,
     "metadata": {},
     "output_type": "execute_result"
    }
   ],
   "source": [
    "ortalama=sum(x)/n\n",
    "ortalama"
   ]
  },
  {
   "cell_type": "code",
   "execution_count": 6,
   "id": "a484db5b",
   "metadata": {},
   "outputs": [
    {
     "data": {
      "text/plain": [
       "10.4"
      ]
     },
     "execution_count": 6,
     "metadata": {},
     "output_type": "execute_result"
    }
   ],
   "source": [
    "var=sum((item-ortalama)**2 for item in x)/(n-1)\n",
    "var"
   ]
  },
  {
   "cell_type": "code",
   "execution_count": 7,
   "id": "e69a0a6d",
   "metadata": {},
   "outputs": [
    {
     "data": {
      "text/plain": [
       "10.399999999999999"
      ]
     },
     "execution_count": 7,
     "metadata": {},
     "output_type": "execute_result"
    }
   ],
   "source": [
    "import numpy as np\n",
    "var=np.var(x, ddof=1)  \n",
    "var"
   ]
  },
  {
   "cell_type": "markdown",
   "id": "be84ca13",
   "metadata": {},
   "source": [
    "# STANDART SAPMA (VARYANSIN KAREKÖKÜ)"
   ]
  },
  {
   "cell_type": "code",
   "execution_count": 8,
   "id": "7c0d280f",
   "metadata": {},
   "outputs": [
    {
     "data": {
      "text/plain": [
       "3.22490309931942"
      ]
     },
     "execution_count": 8,
     "metadata": {},
     "output_type": "execute_result"
    }
   ],
   "source": [
    "n=len(x)\n",
    "mean=sum(x)/n\n",
    "var=sum((item-mean)**2 for item in x)/(n-1)\n",
    "stdsapma=var**0.5\n",
    "stdsapma"
   ]
  },
  {
   "cell_type": "code",
   "execution_count": 9,
   "id": "4ca3a0aa",
   "metadata": {},
   "outputs": [
    {
     "ename": "NameError",
     "evalue": "name 'statistics' is not defined",
     "output_type": "error",
     "traceback": [
      "\u001b[1;31m---------------------------------------------------------------------------\u001b[0m",
      "\u001b[1;31mNameError\u001b[0m                                 Traceback (most recent call last)",
      "Cell \u001b[1;32mIn[9], line 1\u001b[0m\n\u001b[1;32m----> 1\u001b[0m stdsapma\u001b[38;5;241m=\u001b[39mstatistics\u001b[38;5;241m.\u001b[39mstdev(x) \u001b[38;5;66;03m#örneklemin standart sapması\u001b[39;00m\n\u001b[0;32m      2\u001b[0m stdsapma\n",
      "\u001b[1;31mNameError\u001b[0m: name 'statistics' is not defined"
     ]
    }
   ],
   "source": [
    "stdsapma=statistics.stdev(x) #örneklemin standart sapması\n",
    "stdsapma"
   ]
  },
  {
   "cell_type": "code",
   "execution_count": null,
   "id": "62ed444f",
   "metadata": {},
   "outputs": [],
   "source": [
    "stdsapma=statistics.pstdev(x) #popülasyonun standart sapması\n",
    "stdsapma"
   ]
  },
  {
   "cell_type": "code",
   "execution_count": 10,
   "id": "aa692d44",
   "metadata": {},
   "outputs": [
    {
     "data": {
      "text/plain": [
       "3.2249030993194197"
      ]
     },
     "execution_count": 10,
     "metadata": {},
     "output_type": "execute_result"
    }
   ],
   "source": [
    "stdsapma=np.std(x, ddof=1)\n",
    "stdsapma"
   ]
  },
  {
   "cell_type": "code",
   "execution_count": 11,
   "id": "472354cc",
   "metadata": {},
   "outputs": [
    {
     "data": {
      "text/plain": [
       "1.367562458291273"
      ]
     },
     "execution_count": 11,
     "metadata": {},
     "output_type": "execute_result"
    }
   ],
   "source": [
    "çarpıklık=(sum((item-mean)**3 for item in x)*n/((n-1)*(n-2)*stdsapma**3))\n",
    "çarpıklık"
   ]
  },
  {
   "cell_type": "code",
   "execution_count": 12,
   "id": "f0820cff",
   "metadata": {},
   "outputs": [],
   "source": [
    "import scipy.stats"
   ]
  },
  {
   "cell_type": "code",
   "execution_count": 13,
   "id": "ac50f015",
   "metadata": {},
   "outputs": [
    {
     "data": {
      "text/plain": [
       "1.3675624582912733"
      ]
     },
     "execution_count": 13,
     "metadata": {},
     "output_type": "execute_result"
    }
   ],
   "source": [
    "çarpıklık=scipy.stats.skew(x, bias=False)\n",
    "çarpıklık"
   ]
  },
  {
   "cell_type": "code",
   "execution_count": 14,
   "id": "df8a92b8",
   "metadata": {},
   "outputs": [],
   "source": [
    "import pandas as pd"
   ]
  },
  {
   "cell_type": "code",
   "execution_count": 15,
   "id": "0d415c6a",
   "metadata": {},
   "outputs": [
    {
     "data": {
      "text/plain": [
       "0     2\n",
       "1     3\n",
       "2     2\n",
       "3     8\n",
       "4    12\n",
       "dtype: int64"
      ]
     },
     "execution_count": 15,
     "metadata": {},
     "output_type": "execute_result"
    }
   ],
   "source": [
    "x=pd.Series(x)\n",
    "x.head()"
   ]
  },
  {
   "cell_type": "code",
   "execution_count": 16,
   "id": "2d8ae019",
   "metadata": {},
   "outputs": [
    {
     "data": {
      "text/plain": [
       "1.3675624582912733"
      ]
     },
     "execution_count": 16,
     "metadata": {},
     "output_type": "execute_result"
    }
   ],
   "source": [
    "çarpıklık=x.skew()\n",
    "çarpıklık"
   ]
  },
  {
   "cell_type": "markdown",
   "id": "f5ee6585",
   "metadata": {},
   "source": [
    "# BASIKLIK"
   ]
  },
  {
   "cell_type": "code",
   "execution_count": 17,
   "id": "16fe23fe",
   "metadata": {},
   "outputs": [
    {
     "data": {
      "text/plain": [
       "0.4239535393381546"
      ]
     },
     "execution_count": 17,
     "metadata": {},
     "output_type": "execute_result"
    }
   ],
   "source": [
    "basıklık=(((sum((item-mean)**4 for item in x))\n",
    "        *n/(sum((item-mean)**2 for item in x))**2))-3\n",
    "basıklık"
   ]
  },
  {
   "cell_type": "code",
   "execution_count": 18,
   "id": "6893dc01",
   "metadata": {},
   "outputs": [],
   "source": [
    "import scipy.stats"
   ]
  },
  {
   "cell_type": "code",
   "execution_count": 19,
   "id": "f3af9231",
   "metadata": {},
   "outputs": [
    {
     "data": {
      "text/plain": [
       "0.42395353933815594"
      ]
     },
     "execution_count": 19,
     "metadata": {},
     "output_type": "execute_result"
    }
   ],
   "source": [
    "basıklık=scipy.stats.kurtosis(x)\n",
    "basıklık"
   ]
  },
  {
   "cell_type": "code",
   "execution_count": 20,
   "id": "b3fffe3d",
   "metadata": {},
   "outputs": [
    {
     "ename": "NameError",
     "evalue": "name 'df' is not defined",
     "output_type": "error",
     "traceback": [
      "\u001b[1;31m---------------------------------------------------------------------------\u001b[0m",
      "\u001b[1;31mNameError\u001b[0m                                 Traceback (most recent call last)",
      "Cell \u001b[1;32mIn[20], line 1\u001b[0m\n\u001b[1;32m----> 1\u001b[0m df\u001b[38;5;241m.\u001b[39mkurtosis()\n",
      "\u001b[1;31mNameError\u001b[0m: name 'df' is not defined"
     ]
    }
   ],
   "source": [
    "df.kurtosis() #pandas ile. Her bir sütunun basıklık değerini hesaplar"
   ]
  },
  {
   "cell_type": "markdown",
   "id": "80eb27f9",
   "metadata": {},
   "source": [
    "# YÜZDELİKLER"
   ]
  },
  {
   "cell_type": "code",
   "execution_count": 21,
   "id": "6bb095c7",
   "metadata": {},
   "outputs": [],
   "source": [
    "import statistics"
   ]
  },
  {
   "cell_type": "code",
   "execution_count": 22,
   "id": "ff566be9",
   "metadata": {},
   "outputs": [
    {
     "data": {
      "text/plain": [
       "[4.0]"
      ]
     },
     "execution_count": 22,
     "metadata": {},
     "output_type": "execute_result"
    }
   ],
   "source": [
    "statistics.quantiles(x, n=2) #n=2 demek %50 lik kısım demek"
   ]
  },
  {
   "cell_type": "code",
   "execution_count": 23,
   "id": "4cb4dbf5",
   "metadata": {},
   "outputs": [
    {
     "data": {
      "text/plain": [
       "[2.25, 4.0, 5.75]"
      ]
     },
     "execution_count": 23,
     "metadata": {},
     "output_type": "execute_result"
    }
   ],
   "source": [
    "statistics.quantiles(x, n=4, method=\"inclusive\")"
   ]
  },
  {
   "cell_type": "code",
   "execution_count": 24,
   "id": "c34fc8a8",
   "metadata": {},
   "outputs": [],
   "source": [
    "import numpy as np"
   ]
  },
  {
   "cell_type": "code",
   "execution_count": 25,
   "id": "a6e9b6c5",
   "metadata": {},
   "outputs": [
    {
     "data": {
      "text/plain": [
       "2.0"
      ]
     },
     "execution_count": 25,
     "metadata": {},
     "output_type": "execute_result"
    }
   ],
   "source": [
    "y=np.array(x)\n",
    "np.percentile(y,10)  #y değişkenin %10 luk kısmının ortalamasını alır"
   ]
  },
  {
   "cell_type": "code",
   "execution_count": 26,
   "id": "a5f5209b",
   "metadata": {},
   "outputs": [
    {
     "data": {
      "text/plain": [
       "8.399999999999999"
      ]
     },
     "execution_count": 26,
     "metadata": {},
     "output_type": "execute_result"
    }
   ],
   "source": [
    "np.percentile(y,90)"
   ]
  },
  {
   "cell_type": "code",
   "execution_count": 27,
   "id": "28197cbc",
   "metadata": {},
   "outputs": [
    {
     "data": {
      "text/plain": [
       "2.0"
      ]
     },
     "execution_count": 27,
     "metadata": {},
     "output_type": "execute_result"
    }
   ],
   "source": [
    "import pandas as pd\n",
    "y=pd.Series(x)\n",
    "y.quantile(0.10)"
   ]
  },
  {
   "cell_type": "code",
   "execution_count": 28,
   "id": "feba8bf4",
   "metadata": {},
   "outputs": [
    {
     "data": {
      "text/plain": [
       "8.399999999999999"
      ]
     },
     "execution_count": 28,
     "metadata": {},
     "output_type": "execute_result"
    }
   ],
   "source": [
    "y.quantile(0.90)"
   ]
  },
  {
   "cell_type": "markdown",
   "id": "a244691c",
   "metadata": {},
   "source": [
    "# TANIMLAYICI İSTATİSTİKLER ÖZETİ"
   ]
  },
  {
   "cell_type": "code",
   "execution_count": 29,
   "id": "54b78106",
   "metadata": {},
   "outputs": [
    {
     "data": {
      "text/plain": [
       "DescribeResult(nobs=10, minmax=(2, 12), mean=4.8, variance=10.4, skewness=1.1532299228638518, kurtosis=0.42395353933815594)"
      ]
     },
     "execution_count": 29,
     "metadata": {},
     "output_type": "execute_result"
    }
   ],
   "source": [
    "import scipy.stats\n",
    "scipy.stats.describe(x)"
   ]
  },
  {
   "cell_type": "code",
   "execution_count": 30,
   "id": "85f876ff",
   "metadata": {},
   "outputs": [
    {
     "data": {
      "text/plain": [
       "count    10.000000\n",
       "mean      4.800000\n",
       "std       3.224903\n",
       "min       2.000000\n",
       "25%       2.250000\n",
       "50%       4.000000\n",
       "75%       5.750000\n",
       "max      12.000000\n",
       "dtype: float64"
      ]
     },
     "execution_count": 30,
     "metadata": {},
     "output_type": "execute_result"
    }
   ],
   "source": [
    "import pandas as pd\n",
    "sonuc=x.describe()\n",
    "sonuc"
   ]
  },
  {
   "cell_type": "code",
   "execution_count": null,
   "id": "05af0b68",
   "metadata": {},
   "outputs": [],
   "source": []
  }
 ],
 "metadata": {
  "kernelspec": {
   "display_name": "Python 3 (ipykernel)",
   "language": "python",
   "name": "python3"
  },
  "language_info": {
   "codemirror_mode": {
    "name": "ipython",
    "version": 3
   },
   "file_extension": ".py",
   "mimetype": "text/x-python",
   "name": "python",
   "nbconvert_exporter": "python",
   "pygments_lexer": "ipython3",
   "version": "3.11.5"
  }
 },
 "nbformat": 4,
 "nbformat_minor": 5
}
